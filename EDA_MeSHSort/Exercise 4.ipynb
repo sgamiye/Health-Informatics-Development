{
 "cells": [
  {
   "cell_type": "markdown",
   "metadata": {},
   "source": [
    "# Exercise 4"
   ]
  },
  {
   "cell_type": "code",
   "execution_count": 641,
   "metadata": {},
   "outputs": [],
   "source": [
    "import xml.etree.ElementTree as ET\n",
    "from pprint import pprint as pp \n",
    "tree = ET.parse('./desc2022.xml')\n",
    "root = tree.getroot()"
   ]
  },
  {
   "cell_type": "code",
   "execution_count": 915,
   "metadata": {},
   "outputs": [],
   "source": [
    "book1 = root[0]\n",
    "book1_xml = ET.tostring(book1)"
   ]
  },
  {
   "cell_type": "code",
   "execution_count": 916,
   "metadata": {
    "collapsed": true,
    "jupyter": {
     "outputs_hidden": true
    }
   },
   "outputs": [
    {
     "name": "stdout",
     "output_type": "stream",
     "text": [
      "<DescriptorRecord DescriptorClass=\"1\">\n",
      "  <DescriptorUI>D000001</DescriptorUI>\n",
      "  <DescriptorName>\n",
      "   <String>Calcimycin</String>\n",
      "  </DescriptorName>\n",
      "  <DateCreated>\n",
      "   <Year>1974</Year>\n",
      "   <Month>11</Month>\n",
      "   <Day>19</Day>\n",
      "  </DateCreated>\n",
      "  <DateRevised>\n",
      "   <Year>2016</Year>\n",
      "   <Month>05</Month>\n",
      "   <Day>27</Day>\n",
      "  </DateRevised>\n",
      "  <DateEstablished>\n",
      "   <Year>1984</Year>\n",
      "   <Month>01</Month>\n",
      "   <Day>01</Day>\n",
      "  </DateEstablished>\n",
      "  <AllowableQualifiersList>\n",
      "   <AllowableQualifier>\n",
      "    <QualifierReferredTo>\n",
      "     <QualifierUI>Q000302</QualifierUI>\n",
      "      <QualifierName>\n",
      "      <String>isolation &amp; purification</String>\n",
      "      </QualifierName>\n",
      "    </QualifierReferredTo>\n",
      "    <Abbreviation>IP</Abbreviation>\n",
      "   </AllowableQualifier>\n",
      "   <AllowableQualifier>\n",
      "    <QualifierReferredTo>\n",
      "     <QualifierUI>Q000276</QualifierUI>\n",
      "      <QualifierName>\n",
      "      <String>immunology</String>\n",
      "      </QualifierName>\n",
      "    </QualifierReferredTo>\n",
      "    <Abbreviation>IM</Abbreviation>\n",
      "   </AllowableQualifier>\n",
      "   <AllowableQualifier>\n",
      "    <QualifierReferredTo>\n",
      "     <QualifierUI>Q000493</QualifierUI>\n",
      "      <QualifierName>\n",
      "      <String>pharmacokinetics</String>\n",
      "      </QualifierName>\n",
      "    </QualifierReferredTo>\n",
      "    <Abbreviation>PK</Abbreviation>\n",
      "   </AllowableQualifier>\n",
      "   <AllowableQualifier>\n",
      "    <QualifierReferredTo>\n",
      "     <QualifierUI>Q000096</QualifierUI>\n",
      "      <QualifierName>\n",
      "      <String>biosynthesis</String>\n",
      "      </QualifierName>\n",
      "    </QualifierReferredTo>\n",
      "    <Abbreviation>BI</Abbreviation>\n",
      "   </AllowableQualifier>\n",
      "   <AllowableQualifier>\n",
      "    <QualifierReferredTo>\n",
      "     <QualifierUI>Q000627</QualifierUI>\n",
      "      <QualifierName>\n",
      "      <String>therapeutic use</String>\n",
      "      </QualifierName>\n",
      "    </QualifierReferredTo>\n",
      "    <Abbreviation>TU</Abbreviation>\n",
      "   </AllowableQualifier>\n",
      "   <AllowableQualifier>\n",
      "    <QualifierReferredTo>\n",
      "     <QualifierUI>Q000819</QualifierUI>\n",
      "      <QualifierName>\n",
      "      <String>agonists</String>\n",
      "      </QualifierName>\n",
      "    </QualifierReferredTo>\n",
      "    <Abbreviation>AG</Abbreviation>\n",
      "   </AllowableQualifier>\n",
      "   <AllowableQualifier>\n",
      "    <QualifierReferredTo>\n",
      "     <QualifierUI>Q000097</QualifierUI>\n",
      "      <QualifierName>\n",
      "      <String>blood</String>\n",
      "      </QualifierName>\n",
      "    </QualifierReferredTo>\n",
      "    <Abbreviation>BL</Abbreviation>\n",
      "   </AllowableQualifier>\n",
      "   <AllowableQualifier>\n",
      "    <QualifierReferredTo>\n",
      "     <QualifierUI>Q000134</QualifierUI>\n",
      "      <QualifierName>\n",
      "      <String>cerebrospinal fluid</String>\n",
      "      </QualifierName>\n",
      "    </QualifierReferredTo>\n",
      "    <Abbreviation>CF</Abbreviation>\n",
      "   </AllowableQualifier>\n",
      "   <AllowableQualifier>\n",
      "    <QualifierReferredTo>\n",
      "     <QualifierUI>Q000138</QualifierUI>\n",
      "      <QualifierName>\n",
      "      <String>chemical synthesis</String>\n",
      "      </QualifierName>\n",
      "    </QualifierReferredTo>\n",
      "    <Abbreviation>CS</Abbreviation>\n",
      "   </AllowableQualifier>\n",
      "   <AllowableQualifier>\n",
      "    <QualifierReferredTo>\n",
      "     <QualifierUI>Q000737</QualifierUI>\n",
      "      <QualifierName>\n",
      "      <String>chemistry</String>\n",
      "      </QualifierName>\n",
      "    </QualifierReferredTo>\n",
      "    <Abbreviation>CH</Abbreviation>\n",
      "   </AllowableQualifier>\n",
      "   <AllowableQualifier>\n",
      "    <QualifierReferredTo>\n",
      "     <QualifierUI>Q000652</QualifierUI>\n",
      "      <QualifierName>\n",
      "      <String>urine</String>\n",
      "      </QualifierName>\n",
      "    </QualifierReferredTo>\n",
      "    <Abbreviation>UR</Abbreviation>\n",
      "   </AllowableQualifier>\n",
      "   <AllowableQualifier>\n",
      "    <QualifierReferredTo>\n",
      "     <QualifierUI>Q000528</QualifierUI>\n",
      "      <QualifierName>\n",
      "      <String>radiation effects</String>\n",
      "      </QualifierName>\n",
      "    </QualifierReferredTo>\n",
      "    <Abbreviation>RE</Abbreviation>\n",
      "   </AllowableQualifier>\n",
      "   <AllowableQualifier>\n",
      "    <QualifierReferredTo>\n",
      "     <QualifierUI>Q000266</QualifierUI>\n",
      "      <QualifierName>\n",
      "      <String>history</String>\n",
      "      </QualifierName>\n",
      "    </QualifierReferredTo>\n",
      "    <Abbreviation>HI</Abbreviation>\n",
      "   </AllowableQualifier>\n",
      "   <AllowableQualifier>\n",
      "    <QualifierReferredTo>\n",
      "     <QualifierUI>Q000032</QualifierUI>\n",
      "      <QualifierName>\n",
      "      <String>analysis</String>\n",
      "      </QualifierName>\n",
      "    </QualifierReferredTo>\n",
      "    <Abbreviation>AN</Abbreviation>\n",
      "   </AllowableQualifier>\n",
      "   <AllowableQualifier>\n",
      "    <QualifierReferredTo>\n",
      "     <QualifierUI>Q000145</QualifierUI>\n",
      "      <QualifierName>\n",
      "      <String>classification</String>\n",
      "      </QualifierName>\n",
      "    </QualifierReferredTo>\n",
      "    <Abbreviation>CL</Abbreviation>\n",
      "   </AllowableQualifier>\n",
      "   <AllowableQualifier>\n",
      "    <QualifierReferredTo>\n",
      "     <QualifierUI>Q000191</QualifierUI>\n",
      "      <QualifierName>\n",
      "      <String>economics</String>\n",
      "      </QualifierName>\n",
      "    </QualifierReferredTo>\n",
      "    <Abbreviation>EC</Abbreviation>\n",
      "   </AllowableQualifier>\n",
      "   <AllowableQualifier>\n",
      "    <QualifierReferredTo>\n",
      "     <QualifierUI>Q000494</QualifierUI>\n",
      "      <QualifierName>\n",
      "      <String>pharmacology</String>\n",
      "      </QualifierName>\n",
      "    </QualifierReferredTo>\n",
      "    <Abbreviation>PD</Abbreviation>\n",
      "   </AllowableQualifier>\n",
      "   <AllowableQualifier>\n",
      "    <QualifierReferredTo>\n",
      "     <QualifierUI>Q000592</QualifierUI>\n",
      "      <QualifierName>\n",
      "      <String>standards</String>\n",
      "      </QualifierName>\n",
      "    </QualifierReferredTo>\n",
      "    <Abbreviation>ST</Abbreviation>\n",
      "   </AllowableQualifier>\n",
      "   <AllowableQualifier>\n",
      "    <QualifierReferredTo>\n",
      "     <QualifierUI>Q000008</QualifierUI>\n",
      "      <QualifierName>\n",
      "      <String>administration &amp; dosage</String>\n",
      "      </QualifierName>\n",
      "    </QualifierReferredTo>\n",
      "    <Abbreviation>AD</Abbreviation>\n",
      "   </AllowableQualifier>\n",
      "   <AllowableQualifier>\n",
      "    <QualifierReferredTo>\n",
      "     <QualifierUI>Q000037</QualifierUI>\n",
      "      <QualifierName>\n",
      "      <String>antagonists &amp; inhibitors</String>\n",
      "      </QualifierName>\n",
      "    </QualifierReferredTo>\n",
      "    <Abbreviation>AI</Abbreviation>\n",
      "   </AllowableQualifier>\n",
      "   <AllowableQualifier>\n",
      "    <QualifierReferredTo>\n",
      "     <QualifierUI>Q000031</QualifierUI>\n",
      "      <QualifierName>\n",
      "      <String>analogs &amp; derivatives</String>\n",
      "      </QualifierName>\n",
      "    </QualifierReferredTo>\n",
      "    <Abbreviation>AA</Abbreviation>\n",
      "   </AllowableQualifier>\n",
      "   <AllowableQualifier>\n",
      "    <QualifierReferredTo>\n",
      "     <QualifierUI>Q000600</QualifierUI>\n",
      "      <QualifierName>\n",
      "      <String>supply &amp; distribution</String>\n",
      "      </QualifierName>\n",
      "    </QualifierReferredTo>\n",
      "    <Abbreviation>SD</Abbreviation>\n",
      "   </AllowableQualifier>\n",
      "   <AllowableQualifier>\n",
      "    <QualifierReferredTo>\n",
      "     <QualifierUI>Q000506</QualifierUI>\n",
      "      <QualifierName>\n",
      "      <String>poisoning</String>\n",
      "      </QualifierName>\n",
      "    </QualifierReferredTo>\n",
      "    <Abbreviation>PO</Abbreviation>\n",
      "   </AllowableQualifier>\n",
      "   <AllowableQualifier>\n",
      "    <QualifierReferredTo>\n",
      "     <QualifierUI>Q000009</QualifierUI>\n",
      "      <QualifierName>\n",
      "      <String>adverse effects</String>\n",
      "      </QualifierName>\n",
      "    </QualifierReferredTo>\n",
      "    <Abbreviation>AE</Abbreviation>\n",
      "   </AllowableQualifier>\n",
      "   <AllowableQualifier>\n",
      "    <QualifierReferredTo>\n",
      "     <QualifierUI>Q000633</QualifierUI>\n",
      "      <QualifierName>\n",
      "      <String>toxicity</String>\n",
      "      </QualifierName>\n",
      "    </QualifierReferredTo>\n",
      "    <Abbreviation>TO</Abbreviation>\n",
      "   </AllowableQualifier>\n",
      "   <AllowableQualifier>\n",
      "    <QualifierReferredTo>\n",
      "     <QualifierUI>Q000378</QualifierUI>\n",
      "      <QualifierName>\n",
      "      <String>metabolism</String>\n",
      "      </QualifierName>\n",
      "    </QualifierReferredTo>\n",
      "    <Abbreviation>ME</Abbreviation>\n",
      "   </AllowableQualifier>\n",
      "  </AllowableQualifiersList>\n",
      "  <HistoryNote>91(75); was A 23187 1975-90 (see under ANTIBIOTICS 1975-83)\n",
      "  </HistoryNote>\n",
      "  <OnlineNote>use CALCIMYCIN to search A 23187 1975-90\n",
      "  </OnlineNote>\n",
      "  <PublicMeSHNote>91; was A 23187 1975-90 (see under ANTIBIOTICS 1975-83)\n",
      "  </PublicMeSHNote>\n",
      "  <PreviousIndexingList>\n",
      "   <PreviousIndexing>Antibiotics (1973-1974)</PreviousIndexing>\n",
      "   <PreviousIndexing>Carboxylic Acids (1973-1974)</PreviousIndexing>\n",
      "  </PreviousIndexingList>\n",
      "    <PharmacologicalActionList>\n",
      "     <PharmacologicalAction>\n",
      "      <DescriptorReferredTo>\n",
      "       <DescriptorUI>D000900</DescriptorUI>\n",
      "        <DescriptorName>\n",
      "         <String>Anti-Bacterial Agents</String>\n",
      "        </DescriptorName>\n",
      "      </DescriptorReferredTo>\n",
      "     </PharmacologicalAction>\n",
      "     <PharmacologicalAction>\n",
      "      <DescriptorReferredTo>\n",
      "       <DescriptorUI>D061207</DescriptorUI>\n",
      "        <DescriptorName>\n",
      "         <String>Calcium Ionophores</String>\n",
      "        </DescriptorName>\n",
      "      </DescriptorReferredTo>\n",
      "     </PharmacologicalAction>\n",
      "    </PharmacologicalActionList>\n",
      "  <TreeNumberList>\n",
      "   <TreeNumber>D03.633.100.221.173</TreeNumber>\n",
      "  </TreeNumberList>\n",
      "  <ConceptList>\n",
      "   <Concept PreferredConceptYN=\"Y\">\n",
      "    <ConceptUI>M0000001</ConceptUI>\n",
      "    <ConceptName>\n",
      "     <String>Calcimycin</String>\n",
      "    </ConceptName>\n",
      "    <CASN1Name>4-Benzoxazolecarboxylic acid, 5-(methylamino)-2-((3,9,11-trimethyl-8-(1-methyl-2-oxo-2-(1H-pyrrol-2-yl)ethyl)-1,7-dioxaspiro(5.5)undec-2-yl)methyl)-, (6S-(6alpha(2S*,3S*),8beta(R*),9beta,11alpha))-</CASN1Name>\n",
      "    <RegistryNumber>37H9VM9WZL</RegistryNumber>\n",
      "    <ScopeNote>An ionophorous, polyether antibiotic from Streptomyces chartreusensis. It binds and transports CALCIUM and other divalent cations across membranes and uncouples oxidative phosphorylation while inhibiting ATPase of rat liver mitochondria. The substance is used mostly as a biochemical tool to study the role of divalent cations in various biological systems.\n",
      "    </ScopeNote>\n",
      "    <RelatedRegistryNumberList>\n",
      "     <RelatedRegistryNumber>52665-69-7 (Calcimycin)</RelatedRegistryNumber>\n",
      "    </RelatedRegistryNumberList>\n",
      "    <ConceptRelationList>\n",
      "     <ConceptRelation RelationName=\"NRW\">\n",
      "     <Concept1UI>M0000001</Concept1UI>\n",
      "     <Concept2UI>M0353609</Concept2UI>\n",
      "     </ConceptRelation>\n",
      "    </ConceptRelationList>\n",
      "    <TermList>\n",
      "     <Term ConceptPreferredTermYN=\"Y\" IsPermutedTermYN=\"N\" LexicalTag=\"NON\" RecordPreferredTermYN=\"Y\">\n",
      "      <TermUI>T000002</TermUI>\n",
      "      <String>Calcimycin</String>\n",
      "      <DateCreated>\n",
      "       <Year>1999</Year>\n",
      "       <Month>01</Month>\n",
      "       <Day>01</Day>\n",
      "      </DateCreated>\n",
      "      <ThesaurusIDlist>\n",
      "       <ThesaurusID>FDA SRS (2014)</ThesaurusID>\n",
      "       <ThesaurusID>NLM (1975)</ThesaurusID>\n",
      "      </ThesaurusIDlist>\n",
      "     </Term>\n",
      "    </TermList>\n",
      "   </Concept>\n",
      "   <Concept PreferredConceptYN=\"N\">\n",
      "    <ConceptUI>M0353609</ConceptUI>\n",
      "    <ConceptName>\n",
      "     <String>A-23187</String>\n",
      "    </ConceptName>\n",
      "    <RegistryNumber>0</RegistryNumber>\n",
      "    <ConceptRelationList>\n",
      "     <ConceptRelation RelationName=\"NRW\">\n",
      "     <Concept1UI>M0000001</Concept1UI>\n",
      "     <Concept2UI>M0353609</Concept2UI>\n",
      "     </ConceptRelation>\n",
      "    </ConceptRelationList>\n",
      "    <TermList>\n",
      "     <Term ConceptPreferredTermYN=\"Y\" IsPermutedTermYN=\"N\" LexicalTag=\"LAB\" RecordPreferredTermYN=\"N\">\n",
      "      <TermUI>T000001</TermUI>\n",
      "      <String>A-23187</String>\n",
      "      <DateCreated>\n",
      "       <Year>1990</Year>\n",
      "       <Month>03</Month>\n",
      "       <Day>08</Day>\n",
      "      </DateCreated>\n",
      "      <ThesaurusIDlist>\n",
      "       <ThesaurusID>NLM (1991)</ThesaurusID>\n",
      "      </ThesaurusIDlist>\n",
      "     </Term>\n",
      "     <Term ConceptPreferredTermYN=\"N\" IsPermutedTermYN=\"Y\" LexicalTag=\"LAB\" RecordPreferredTermYN=\"N\">\n",
      "      <TermUI>T000001</TermUI>\n",
      "      <String>A 23187</String>\n",
      "     </Term>\n",
      "     <Term ConceptPreferredTermYN=\"N\" IsPermutedTermYN=\"N\" LexicalTag=\"LAB\" RecordPreferredTermYN=\"N\">\n",
      "      <TermUI>T000004</TermUI>\n",
      "      <String>A23187</String>\n",
      "      <DateCreated>\n",
      "       <Year>1974</Year>\n",
      "       <Month>11</Month>\n",
      "       <Day>11</Day>\n",
      "      </DateCreated>\n",
      "      <ThesaurusIDlist>\n",
      "       <ThesaurusID>UNK (19XX)</ThesaurusID>\n",
      "      </ThesaurusIDlist>\n",
      "     </Term>\n",
      "     <Term ConceptPreferredTermYN=\"N\" IsPermutedTermYN=\"N\" LexicalTag=\"NON\" RecordPreferredTermYN=\"N\">\n",
      "      <TermUI>T000003</TermUI>\n",
      "      <String>Antibiotic A23187</String>\n",
      "      <DateCreated>\n",
      "       <Year>1990</Year>\n",
      "       <Month>03</Month>\n",
      "       <Day>08</Day>\n",
      "      </DateCreated>\n",
      "      <ThesaurusIDlist>\n",
      "       <ThesaurusID>NLM (1991)</ThesaurusID>\n",
      "      </ThesaurusIDlist>\n",
      "     </Term>\n",
      "     <Term ConceptPreferredTermYN=\"N\" IsPermutedTermYN=\"Y\" LexicalTag=\"NON\" RecordPreferredTermYN=\"N\">\n",
      "      <TermUI>T000003</TermUI>\n",
      "      <String>A23187, Antibiotic</String>\n",
      "     </Term>\n",
      "    </TermList>\n",
      "   </Concept>\n",
      "  </ConceptList>\n",
      " </DescriptorRecord>\n",
      "\n"
     ]
    }
   ],
   "source": [
    "book1_string = book1_xml.decode('utf-8')\n",
    "print(book1_string)"
   ]
  },
  {
   "cell_type": "code",
   "execution_count": 917,
   "metadata": {},
   "outputs": [],
   "source": [
    "DescriptorUIs=root.findall('DescriptorRecord/DescriptorUI')\n",
    "strings=root.findall('DescriptorRecord/DescriptorName/String')"
   ]
  },
  {
   "cell_type": "markdown",
   "metadata": {},
   "source": [
    "##### the DescriptorName associated with DescriptorUI D007154 (the text of the name is nested inside a String tag) (5 points)"
   ]
  },
  {
   "cell_type": "markdown",
   "metadata": {},
   "source": [
    "create a list for all DescriptorUIs and associate according index to find the DescriptorName"
   ]
  },
  {
   "cell_type": "code",
   "execution_count": 922,
   "metadata": {},
   "outputs": [],
   "source": [
    "def find_name_w_UI(UI_input):\n",
    "    DescriptorUIs=root.findall('DescriptorRecord/DescriptorUI')\n",
    "    strings=root.findall('DescriptorRecord/DescriptorName/String')\n",
    "    UIs=[]\n",
    "    for DescriptorName in root.findall(\"DescriptorRecord\"):\n",
    "        UI=DescriptorName.find(\"DescriptorUI\").text\n",
    "        UIs.append(UI)\n",
    "    index=UIs.index(UI_input)\n",
    "    return pp(strings[index].text)"
   ]
  },
  {
   "cell_type": "code",
   "execution_count": 923,
   "metadata": {},
   "outputs": [
    {
     "name": "stdout",
     "output_type": "stream",
     "text": [
      "'Immune System Diseases'\n"
     ]
    }
   ],
   "source": [
    "find_name_w_UI('D007154')"
   ]
  },
  {
   "cell_type": "markdown",
   "metadata": {},
   "source": [
    "##### the DescriptorUI (MeSH Unique ID) associated with DescriptorName \"Nervous System Diseases\""
   ]
  },
  {
   "cell_type": "markdown",
   "metadata": {},
   "source": [
    "create a list for all DescriptorNames and associate according index to find the DescriptorUI"
   ]
  },
  {
   "cell_type": "code",
   "execution_count": 925,
   "metadata": {},
   "outputs": [],
   "source": [
    "def find_UI_w_name(name_input):\n",
    "    DescriptorUIs=root.findall('DescriptorRecord/DescriptorUI')\n",
    "    strings=root.findall('DescriptorRecord/DescriptorName/String')\n",
    "    names=[]\n",
    "    for DescriptorUI in root.findall(\"DescriptorRecord\"):\n",
    "        name=DescriptorUI.find(\"DescriptorName\").find(\"String\").text\n",
    "        names.append(name)\n",
    "    index=names.index(name_input)\n",
    "    return pp(DescriptorUIs[index].text)"
   ]
  },
  {
   "cell_type": "code",
   "execution_count": 926,
   "metadata": {},
   "outputs": [
    {
     "name": "stdout",
     "output_type": "stream",
     "text": [
      "'D009422'\n"
     ]
    }
   ],
   "source": [
    "find_UI_w_name('Nervous System Diseases')"
   ]
  },
  {
   "cell_type": "markdown",
   "metadata": {},
   "source": [
    "##### the DescriptorNames of items in the MeSH hierarchy that are descendants of both \"Nervous System Diseases\" and D007154. (That is, each item is a subtype of both, as defined by its TreeNumber(s).)"
   ]
  },
  {
   "cell_type": "code",
   "execution_count": 3,
   "metadata": {},
   "outputs": [],
   "source": [
    "# building dataframe for attributes in the MeSH data"
   ]
  },
  {
   "cell_type": "code",
   "execution_count": 927,
   "metadata": {},
   "outputs": [],
   "source": [
    "trees=[]\n",
    "for DescriptorUI in root.findall(\"DescriptorRecord\"):\n",
    "    tree_list = []\n",
    "    try:\n",
    "        for tree in DescriptorUI.find(\"TreeNumberList\"):\n",
    "            tree_list.append(tree.text)\n",
    "    except TypeError:\n",
    "        tree_list= []\n",
    "    trees.append(tree_list)"
   ]
  },
  {
   "cell_type": "code",
   "execution_count": 928,
   "metadata": {},
   "outputs": [],
   "source": [
    "Descriptor_data = []\n",
    "\n",
    "for DescriptorRecord in root:\n",
    "    Descriptor_dict = {\n",
    "        'DescriptorUI': DescriptorRecord.find('DescriptorUI').text,\n",
    "        'DescriptorName': DescriptorRecord.find('DescriptorName/String').text,\n",
    "    }\n",
    "    Descriptor_data.append(Descriptor_dict)\n",
    "\n",
    "Descriptor_df = pd.DataFrame(Descriptor_data)"
   ]
  },
  {
   "cell_type": "code",
   "execution_count": 929,
   "metadata": {},
   "outputs": [],
   "source": [
    "Descriptor_df['TreeNumberList']=trees"
   ]
  },
  {
   "cell_type": "code",
   "execution_count": 930,
   "metadata": {},
   "outputs": [],
   "source": [
    "# identify treenumber for Nervous System Diseases"
   ]
  },
  {
   "cell_type": "code",
   "execution_count": 822,
   "metadata": {},
   "outputs": [
    {
     "data": {
      "text/plain": [
       "11795    [C10]\n",
       "Name: TreeNumberList, dtype: object"
      ]
     },
     "execution_count": 822,
     "metadata": {},
     "output_type": "execute_result"
    }
   ],
   "source": [
    "Descriptor_df[Descriptor_df['DescriptorName']=='Nervous System Diseases']['TreeNumberList'] #TreeNum for Nervous System Diseases"
   ]
  },
  {
   "cell_type": "code",
   "execution_count": 931,
   "metadata": {},
   "outputs": [],
   "source": [
    "# identify treenumber for Immune System Diseases"
   ]
  },
  {
   "cell_type": "code",
   "execution_count": 932,
   "metadata": {},
   "outputs": [
    {
     "data": {
      "text/plain": [
       "9629    [C20]\n",
       "Name: TreeNumberList, dtype: object"
      ]
     },
     "execution_count": 932,
     "metadata": {},
     "output_type": "execute_result"
    }
   ],
   "source": [
    "Descriptor_df[Descriptor_df['DescriptorName']=='Immune System Diseases']['TreeNumberList']#TreeNum for Nervous System Diseases"
   ]
  },
  {
   "cell_type": "code",
   "execution_count": 4,
   "metadata": {},
   "outputs": [],
   "source": [
    "# function for identifying overlapping descendants for two treenumbers"
   ]
  },
  {
   "cell_type": "code",
   "execution_count": 933,
   "metadata": {},
   "outputs": [],
   "source": [
    "def descendants(Treenumber1,Treenumber2):\n",
    "    name_list = []\n",
    "    for item in range(Descriptor_df.shape[0]):\n",
    "        lst = Descriptor_df['TreeNumberList'][item]\n",
    "        s = []\n",
    "        for j in lst:\n",
    "            s.append(j.split('.')[0])\n",
    "        if Treenumber1 in s and Treenumber2 in s:\n",
    "            name_list.append(Descriptor_df['DescriptorName'][item])\n",
    "    return name_list"
   ]
  },
  {
   "cell_type": "code",
   "execution_count": 934,
   "metadata": {},
   "outputs": [
    {
     "data": {
      "text/plain": [
       "['Autoimmune Hypophysitis',\n",
       " 'Ataxia Telangiectasia',\n",
       " 'Diffuse Cerebral Sclerosis of Schilder',\n",
       " 'Encephalomyelitis, Acute Disseminated',\n",
       " 'Encephalomyelitis, Autoimmune, Experimental',\n",
       " 'Leukoencephalitis, Acute Hemorrhagic',\n",
       " 'Kernicterus',\n",
       " 'Multiple Sclerosis',\n",
       " 'Myasthenia Gravis',\n",
       " 'Myelitis, Transverse',\n",
       " 'Neuritis, Autoimmune, Experimental',\n",
       " 'Neuromyelitis Optica',\n",
       " 'Polyradiculoneuropathy',\n",
       " 'Giant Cell Arteritis',\n",
       " 'Uveomeningoencephalitic Syndrome',\n",
       " 'AIDS Dementia Complex',\n",
       " 'Lambert-Eaton Myasthenic Syndrome',\n",
       " 'Stiff-Person Syndrome',\n",
       " 'POEMS Syndrome',\n",
       " 'Miller Fisher Syndrome',\n",
       " 'Autoimmune Diseases of the Nervous System',\n",
       " 'Guillain-Barre Syndrome',\n",
       " 'Polyradiculoneuropathy, Chronic Inflammatory Demyelinating',\n",
       " 'Demyelinating Autoimmune Diseases, CNS',\n",
       " 'Vasculitis, Central Nervous System',\n",
       " 'Multiple Sclerosis, Chronic Progressive',\n",
       " 'Multiple Sclerosis, Relapsing-Remitting',\n",
       " 'Myasthenia Gravis, Autoimmune, Experimental',\n",
       " 'Nervous System Autoimmune Disease, Experimental',\n",
       " 'Myasthenia Gravis, Neonatal',\n",
       " 'AIDS Arteritis, Central Nervous System',\n",
       " 'Lupus Vasculitis, Central Nervous System',\n",
       " 'Mevalonate Kinase Deficiency',\n",
       " 'Microscopic Polyangiitis',\n",
       " 'Anti-N-Methyl-D-Aspartate Receptor Encephalitis']"
      ]
     },
     "execution_count": 934,
     "metadata": {},
     "output_type": "execute_result"
    }
   ],
   "source": [
    "descendants('C10','C20')"
   ]
  },
  {
   "cell_type": "markdown",
   "metadata": {},
   "source": [
    "##### Explain briefly in terms of biology/medicine what the above search has found: There are diseases that are associated with both the nervous system and the immune system, as the list listed above. For example, for Multiple Sclerosis, the autoimmune function fails and starts to attack myelin sheath which is critical for effective signal propagations from action potentials and provide great insulations to the axon, and therefore, in this case, both immune system and nervous system are involved, which is very reasonable for there two be treennumbers associated with both. "
   ]
  },
  {
   "cell_type": "code",
   "execution_count": null,
   "metadata": {},
   "outputs": [],
   "source": []
  }
 ],
 "metadata": {
  "kernelspec": {
   "display_name": "Python 3",
   "language": "python",
   "name": "python3"
  },
  "language_info": {
   "codemirror_mode": {
    "name": "ipython",
    "version": 3
   },
   "file_extension": ".py",
   "mimetype": "text/x-python",
   "name": "python",
   "nbconvert_exporter": "python",
   "pygments_lexer": "ipython3",
   "version": "3.8.5"
  }
 },
 "nbformat": 4,
 "nbformat_minor": 4
}
